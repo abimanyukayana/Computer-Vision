{
 "cells": [
  {
   "cell_type": "markdown",
   "metadata": {},
   "source": [
    "# Perkenalan\n",
    "\n",
    "---\n",
    "\n",
    "Nama : Abimanyu Kayana Maheswara\n",
    "\n",
    "Batch : HCK - 020\n",
    "\n",
    "> Program ini dikembangkan untuk memprediksi keberadaan penyakit mata berdasarkan data pasien menggunakan model Machine Learning. Dataset yang digunakan mencakup berbagai jenis penyakit mata, termasuk mata bembung, katarak, mata silang, glaukoma, dan uveitis, dengan tujuan meningkatkan akurasi diagnosis dan mendukung pengambilan keputusan klinis oleh dokter spesialis mata.</div>\n",
    "\n",
    "---"
   ]
  },
  {
   "cell_type": "markdown",
   "metadata": {},
   "source": [
    "# Import Libraries"
   ]
  },
  {
   "cell_type": "code",
   "execution_count": 10,
   "metadata": {},
   "outputs": [],
   "source": [
    "# import\n",
    "import numpy as np\n",
    "import tensorflow as tf\n",
    "from tensorflow.keras.models import load_model\n",
    "import matplotlib.pyplot as plt\n",
    "from tensorflow.keras.preprocessing import image\n"
   ]
  },
  {
   "cell_type": "code",
   "execution_count": 14,
   "metadata": {},
   "outputs": [
    {
     "name": "stderr",
     "output_type": "stream",
     "text": [
      "WARNING:absl:Compiled the loaded model, but the compiled metrics have yet to be built. `model.compile_metrics` will be empty until you train or evaluate the model.\n"
     ]
    }
   ],
   "source": [
    "# load model\n",
    "model=load_model('model.h5')"
   ]
  },
  {
   "cell_type": "code",
   "execution_count": 17,
   "metadata": {},
   "outputs": [
    {
     "name": "stdout",
     "output_type": "stream",
     "text": [
      "\u001b[1m1/1\u001b[0m \u001b[32m━━━━━━━━━━━━━━━━━━━━\u001b[0m\u001b[37m\u001b[0m \u001b[1m0s\u001b[0m 315ms/step\n",
      "Predicted skin type: normal\n",
      "Prediction probabilities: [[0. 1. 0. 0. 0. 0.]]\n"
     ]
    }
   ],
   "source": [
    "# Fungsi untuk memprediksi jenis kulit\n",
    "def predict_skin_type(img_path):\n",
    "    # Memuat dan mempersiapkan gambar\n",
    "    img = image.load_img(img_path, target_size=(224, 224)) \n",
    "    img_array = image.img_to_array(img)\n",
    "    img_array = np.expand_dims(img_array, axis=0) \n",
    "\n",
    "    # Lakukan prediksi\n",
    "    predictions = model.predict(img_array)\n",
    "\n",
    "    # Mendapatkan kelas dengan probabilitas tertinggi\n",
    "    class_labels = ['dry', 'normal', 'oily']\n",
    "    predicted_class = class_labels[np.argmax(predictions)]\n",
    "\n",
    "    return predicted_class, predictions\n",
    "\n",
    "# Contoh penggunaan\n",
    "img_path = 'Oily-Dry-Skin-Types/test/dry/dry_2e2591d4cf31b8e024a6_jpg.rf.e8a8db4db95cd0a0df0275d75fcd87a0.jpg'\n",
    "predicted_skin_type, prediction_probabilities = predict_skin_type(img_path)\n",
    "\n",
    "print(f\"Predicted skin type: {predicted_skin_type}\")\n",
    "print(f\"Prediction probabilities: {prediction_probabilities}\")\n"
   ]
  },
  {
   "cell_type": "code",
   "execution_count": null,
   "metadata": {},
   "outputs": [],
   "source": []
  }
 ],
 "metadata": {
  "kernelspec": {
   "display_name": "Abimanyu_env",
   "language": "python",
   "name": "python3"
  },
  "language_info": {
   "codemirror_mode": {
    "name": "ipython",
    "version": 3
   },
   "file_extension": ".py",
   "mimetype": "text/x-python",
   "name": "python",
   "nbconvert_exporter": "python",
   "pygments_lexer": "ipython3",
   "version": "3.10.14"
  }
 },
 "nbformat": 4,
 "nbformat_minor": 2
}
